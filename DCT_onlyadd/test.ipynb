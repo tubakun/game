{
 "cells": [
  {
   "cell_type": "code",
   "execution_count": 2,
   "metadata": {},
   "outputs": [
    {
     "name": "stdout",
     "output_type": "stream",
     "text": [
      "[[1, 3, 2]]\n",
      "[1] [3] [2] []\n",
      "[] [] [] []\n"
     ]
    }
   ],
   "source": [
    "\n",
    "SGD_set=[[1,3,2]] #SGDそれぞれのチャネルの指定\n",
    "none_ch=[]\n",
    "NP=-1\n",
    "Vdd=3.0\n",
    "vstart=-0.5\n",
    "vend=3.0\n",
    "vstep=0.1\n",
    "        # S: GND, G: sweep, D: Vdd\n",
    "        # 3端子素子の測定用，1端子の電圧をスイープして各端子の電流を測定\n",
    "        # 測定プログラムをSMUのプログラム・メモリに書き込む\n",
    "        # output_wait: 出力変更後測定開始までの待ち時間，meas_wait: 測定開始後出力変更までの待ち時間\n",
    "output_wait, meas_wait = 1e-3, 1e-3\n",
    "#output_wait, meas_wait = 100e-3, 100e-3\n",
    "tot_step = int((vend-vstart)/vstep+1)\n",
    "print (SGD_set)\n",
    "S_set, G_set, D_set  = [], [], []\n",
    "for SGD in SGD_set:\n",
    "    S,G,D=SGD\n",
    "    if type(S)==int:\n",
    "        S_set.append(S)\n",
    "    if type(G)==int:\n",
    "        G_set.append(G)\n",
    "    if type(D)==int:\n",
    "        D_set.append(D)\n",
    "S1 = [s for s in S_set if s<9 and s>0]\n",
    "S2 = [s-8 for s in S_set if s>=9]\n",
    "G1 = [g for g in G_set if g<9 and g>0]\n",
    "G2 = [g-8 for g in G_set if g>=9]\n",
    "D1 = [d for d in D_set if d<9 and d>0]\n",
    "D2 = [d-8 for d in D_set if d>=9]\n",
    "invalid1 = [i for i in none_ch if i<9]\n",
    "invalid2 = [i-8 for i in none_ch if i>=9]\n",
    "print (S1,G1,D1,invalid1)\n",
    "print (S2,G2,D2,invalid2)"
   ]
  },
  {
   "cell_type": "code",
   "execution_count": 10,
   "metadata": {},
   "outputs": [
    {
     "name": "stdout",
     "output_type": "stream",
     "text": [
      "[3.0, 3.1, 3.2, 3.3, 3.4, 3.5, 3.6, 3.7, 3.8, 3.9]\n",
      "10\n"
     ]
    }
   ],
   "source": [
    "result = [value for value in [3 + (0.1 * i) for i in range(0, 10)] for _ in range(1)]\n",
    "print(result)\n",
    "print(len(result))"
   ]
  },
  {
   "cell_type": "code",
   "execution_count": 6,
   "metadata": {},
   "outputs": [
    {
     "name": "stdout",
     "output_type": "stream",
     "text": [
      "[1]\n",
      "[2]\n",
      "[3]\n",
      "[4]\n",
      "[5]\n",
      "[2]\n"
     ]
    }
   ],
   "source": [
    "\n",
    "CHIP_set=[[1,2,3,4,5]]\n",
    "HV_set  = []\n",
    "Y3_set  = []\n",
    "V5_set  = []\n",
    "V3_set  = []\n",
    "V0_set  = []\n",
    "for CHIP in CHIP_set:\n",
    "        HV,Y3,V5,V3,V0=CHIP\n",
    "        if type(HV)==int:\n",
    "            HV_set.append(HV)\n",
    "        if type(Y3)==int:\n",
    "            Y3_set.append(Y3)\n",
    "        if type(V5)==int:\n",
    "            V5_set.append(V5)\n",
    "        if type(V3)==int:\n",
    "            V3_set.append(V3)\n",
    "        if type(V3)==int:\n",
    "            V0_set.append(V0)\n",
    "\n",
    "print (HV_set)\n",
    "print (Y3_set)\n",
    "print (V5_set)\n",
    "print (V3_set)\n",
    "print (V0_set)\n",
    "\n",
    "HV_1 = [hv for hv in HV_set if hv<9 and hv>0]\n",
    "Y3_1 = [y3 for y3 in Y3_set if y3<9 and y3>0]\n",
    "V5_1 = [v5 for v5 in V5_set if v5<9 and v5>0]\n",
    "V3_1 = [v3 for v3 in V3_set if v3<9 and v3>0]\n",
    "V0_1 = [v0 for v0 in V0_set if v0<9 and v0>0]\n",
    "\n",
    "print(Y3_1)"
   ]
  }
 ],
 "metadata": {
  "kernelspec": {
   "display_name": "Python 3",
   "language": "python",
   "name": "python3"
  },
  "language_info": {
   "codemirror_mode": {
    "name": "ipython",
    "version": 3
   },
   "file_extension": ".py",
   "mimetype": "text/x-python",
   "name": "python",
   "nbconvert_exporter": "python",
   "pygments_lexer": "ipython3",
   "version": "3.10.5"
  },
  "orig_nbformat": 4
 },
 "nbformat": 4,
 "nbformat_minor": 2
}
