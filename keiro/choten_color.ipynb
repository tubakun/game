{
 "cells": [
  {
   "cell_type": "code",
   "execution_count": null,
   "metadata": {},
   "outputs": [],
   "source": [
    "import bpy\n",
    "import bmesh\n",
    "\n",
    "# 対象のオブジェクトを指定\n",
    "obj_name = \"your_object_name\"  # ここにオブジェクトの名前を指定\n",
    "obj = bpy.data.objects[obj_name]\n",
    "\n",
    "# メッシュデータにアクセス\n",
    "mesh = obj.data\n",
    "\n",
    "# 頂点カラーレイヤーが存在するか確認\n",
    "if not mesh.vertex_colors:\n",
    "    print(\"The object does not have vertex colors.\")\n",
    "else:\n",
    "    # BMeshオブジェクトの作成とメッシュデータのロード\n",
    "    bm = bmesh.new()\n",
    "    bm.from_mesh(mesh)\n",
    "\n",
    "    # 頂点カラーレイヤーの取得\n",
    "    color_layer = bm.loops.layers.color.active\n",
    "\n",
    "    # 出力結果を保持するリスト\n",
    "    result = []\n",
    "\n",
    "    # 各面に対して処理\n",
    "    for face in bm.faces:\n",
    "        # 各ループ（頂点とそれに接続されるエッジのセット）に対して処理\n",
    "        for loop in face.loops:\n",
    "            # 頂点座標の取得\n",
    "            co = loop.vert.co\n",
    "            # 頂点カラーの取得\n",
    "            color = loop[color_layer]\n",
    "\n",
    "            # 結果をリストに追加\n",
    "            result.append([co.x, co.y, co.z, color.r, color.g, color.b])\n",
    "\n",
    "    # BMeshのクリア\n",
    "    bm.free()\n",
    "\n",
    "    # テキストファイルへの出力\n",
    "    with open(\"output.txt\", \"w\") as f:\n",
    "        for r in result:\n",
    "            f.write(\", \".join(map(str, r)) + \"\\n\")"
   ]
  }
 ],
 "metadata": {
  "language_info": {
   "name": "python"
  },
  "orig_nbformat": 4
 },
 "nbformat": 4,
 "nbformat_minor": 2
}
